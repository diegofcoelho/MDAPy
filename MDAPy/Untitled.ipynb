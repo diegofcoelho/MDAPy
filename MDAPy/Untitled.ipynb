{
 "cells": [
  {
   "cell_type": "code",
   "execution_count": 2,
   "id": "d2cdfc6a",
   "metadata": {},
   "outputs": [
    {
     "ename": "ERROR",
     "evalue": "Error in library(IsoplotR): there is no package called ‘IsoplotR’\n",
     "output_type": "error",
     "traceback": [
      "Error in library(IsoplotR): there is no package called ‘IsoplotR’\nTraceback:\n",
      "1. library(IsoplotR)"
     ]
    }
   ],
   "source": [
    "library(IsoplotR)"
   ]
  },
  {
   "cell_type": "code",
   "execution_count": 3,
   "id": "2c09969d",
   "metadata": {},
   "outputs": [
    {
     "ename": "ERROR",
     "evalue": "Error in setwd(system.file(package = \"IsoplotR\")): cannot change working directory\n",
     "output_type": "error",
     "traceback": [
      "Error in setwd(system.file(package = \"IsoplotR\")): cannot change working directory\nTraceback:\n",
      "1. setwd(system.file(package = \"IsoplotR\"))"
     ]
    }
   ],
   "source": [
    "setwd(system.file(package='IsoplotR'))  "
   ]
  },
  {
   "cell_type": "code",
   "execution_count": 5,
   "id": "726dffea",
   "metadata": {},
   "outputs": [
    {
     "ename": "ERROR",
     "evalue": "Error in read.data(\"RbSr1.csv\", method = \"Rb-Sr\", format = 1): could not find function \"read.data\"\n",
     "output_type": "error",
     "traceback": [
      "Error in read.data(\"RbSr1.csv\", method = \"Rb-Sr\", format = 1): could not find function \"read.data\"\nTraceback:\n"
     ]
    }
   ],
   "source": [
    "RbSr <- read.data('RbSr1.csv',method='Rb-Sr',format=1)> isochron(RbSr)\n"
   ]
  },
  {
   "cell_type": "code",
   "execution_count": null,
   "id": "e0b41553",
   "metadata": {},
   "outputs": [],
   "source": []
  }
 ],
 "metadata": {
  "kernelspec": {
   "display_name": "R",
   "language": "R",
   "name": "ir"
  },
  "language_info": {
   "codemirror_mode": "r",
   "file_extension": ".r",
   "mimetype": "text/x-r-source",
   "name": "R",
   "pygments_lexer": "r",
   "version": "3.6.1"
  }
 },
 "nbformat": 4,
 "nbformat_minor": 5
}
